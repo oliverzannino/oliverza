{
  "cells": [
    {
      "cell_type": "markdown",
      "metadata": {
        "id": "view-in-github",
        "colab_type": "text"
      },
      "source": [
        "<a href=\"https://colab.research.google.com/github/oliverzannino/oliverza/blob/main/2025Assignment2.ipynb\" target=\"_parent\"><img src=\"https://colab.research.google.com/assets/colab-badge.svg\" alt=\"Open In Colab\"/></a>"
      ]
    },
    {
      "cell_type": "markdown",
      "id": "8fa19c4e",
      "metadata": {
        "id": "8fa19c4e"
      },
      "source": [
        "<h1 style=\"font-family:Impact,Arial;font-size:30px;\">37005 Fundamentals of Derivative Security Pricing - Spring 2025</h1>\n",
        "<h1 style=\"font-family:Impact,Arial;font-size:45px;\">Assignment Part 2</h1>\n",
        "<h2 style=\"font-family:Arial;\">Erik Schl&ouml;gl</h2>\n",
        "<p><small> School of Mathematical &amp; Physical Sciences<br>\n",
        "University of Technology Sydney\n",
        "</small></p>\n",
        "<p>\n",
        "<a href=\"mailto:Erik.Schlogl@uts.edu.au?Subject=37000 JIT\" target=\"_blank\">\n",
        "<small><font color=MediumVioletRed>Erik.Schlogl@uts.edu.au</font></small></a>\n",
        "</p>\n",
        "<hr style=\"height:5px;border:none;color:#333;background-color:#333;\" />"
      ]
    },
    {
      "cell_type": "markdown",
      "id": "9edc5c86",
      "metadata": {
        "id": "9edc5c86"
      },
      "source": [
        "# Standard normal CDF\n",
        "\n",
        "## Task 1\n",
        "Write a program in Python that asks a user for a number `x`, and then outputs the value of the cumulative distribution function of the standard normal distribution at `x`. *(1 mark)*\n",
        "## Example\n",
        "\n",
        "`Enter x: 0.3\n",
        "The value of the standard normal CDF at 0.3 is 0.6179114221889526`\n",
        "\n",
        "**Hint:** You'll want to use the `input(...)` and `print(...)` functions for this. Recall that `input(...)` returns a string, which must be converted to a floating point number using `float(...)`. If we do `from scipy.stats import norm`, then the cumulative distribution function of the standard normal distribution can be accessed as `norm.cdf(...)`."
      ]
    },
    {
      "cell_type": "code",
      "execution_count": 1,
      "id": "3a271cdc",
      "metadata": {
        "id": "3a271cdc"
      },
      "outputs": [],
      "source": [
        "from scipy.stats import norm\n",
        "\n",
        "def CDF_UI():\n",
        "    x = float(input(\"Enter x: \"))\n",
        "    print(f'The value of the standard normal CDF at {x} is {norm.cdf(x)}')"
      ]
    },
    {
      "cell_type": "code",
      "source": [
        "CDF_UI()"
      ],
      "metadata": {
        "id": "ZZ8Dk-wVZwKI",
        "colab": {
          "base_uri": "https://localhost:8080/"
        },
        "outputId": "27903bab-54dc-471a-f377-47d0e0e450be"
      },
      "id": "ZZ8Dk-wVZwKI",
      "execution_count": 2,
      "outputs": [
        {
          "output_type": "stream",
          "name": "stdout",
          "text": [
            "Enter x: .3\n",
            "The value of the standard normal CDF at 0.3 is 0.6179114221889526\n"
          ]
        }
      ]
    },
    {
      "cell_type": "markdown",
      "id": "ff0f5d12",
      "metadata": {
        "id": "ff0f5d12"
      },
      "source": [
        "# Black/Scholes formula in Python\n",
        "The Black/Scholes price of a European call option expiring at time $T$ with strike price $K$ is\n",
        "$$\n",
        "C(S,t)=SN(d_1)−Ke^{−r(T−t)}N(d_2)\n",
        "$$\n",
        "where $S$ is the current price of the underlying asset, $t$ the current time and $r$ the continuously compounded riskfree interest rate. $N(d)$ denotes the cumulative distribution function of the standard normal distribution, and\n",
        "$$\n",
        "\\begin{eqnarray}\n",
        "d_1 &=& \\frac{\\ln\\frac{S}K+(r+\\frac12\\sigma^2)(T−t)}{\\sigma\\sqrt{T-t}}\\\\\n",
        "d_2 &=& d_1−\\sigma\\sqrt{T-t}\n",
        "\\end{eqnarray}\n",
        "$$\n",
        "where the $\\sigma$ denotes the volatility of the underlying asset.\n",
        "\n",
        "Similarly, the price of a European put option expiring at time $T$ with strike price $K$ is\n",
        "$$\n",
        "P(S,t)=Ke^{−r(T−t)}N(−d_2)−SN(−d_1)\n",
        "$$\n",
        "## Task 2\n",
        "Using the scaffold provided, write a Python function which calculates the Black/Scholes price of the option, where the function takes six arguments (in this order): $S$, $K$, $\\sigma$, $r$, $T$ and a 1 for a call or -1 for a put. <em>(2 marks)</em>\n",
        "\n",
        "## Example:\n",
        "\n",
        "`Enter the underlying stock price: 100\n",
        "Enter the strike price: 100\n",
        "Enter the volatility: 0.3\n",
        "Enter continuously compounded interest rate: 0.05\n",
        "Enter the time to maturity: 2\n",
        "Enter 1 for call or -1 for put option: 1\n",
        "The option price is: 21.193735255280203`\n",
        "\n",
        "## Another example (a put option):\n",
        "\n",
        "`Enter the underlying stock price: 100\n",
        "Enter the strike price: 100\n",
        "Enter the volatility: 0.3\n",
        "Enter continuously compounded interest rate: 0.05\n",
        "Enter the time to maturity: 2\n",
        "Enter 1 for call or -1 for put option: -1\n",
        "The option price is: 11.677477058876157`"
      ]
    },
    {
      "cell_type": "code",
      "execution_count": 3,
      "id": "c1178ebd",
      "metadata": {
        "id": "c1178ebd",
        "colab": {
          "base_uri": "https://localhost:8080/"
        },
        "outputId": "30ac6600-c031-4869-acf1-8acbdb255759"
      },
      "outputs": [
        {
          "output_type": "stream",
          "name": "stdout",
          "text": [
            "Enter the underlying stock price: 100\n",
            "Enter the strike price: 100\n",
            "Enter the volatility: 0.3\n",
            "Enter continuously compounded interest rate: 0.05\n",
            "Enter the time to maturity: 2\n",
            "Enter 1 for call or -1 for put option: 1\n",
            "The option price is: \n",
            "21.193735255280203\n"
          ]
        }
      ],
      "source": [
        "import numpy as np\n",
        "from scipy.stats import norm\n",
        "\n",
        "def BlackScholes(S,K,sgm,r,T,callput):\n",
        "    d1 = (np.log(S/K)+(r+(sgm**2)/2)*T)/(sgm*np.sqrt(T))\n",
        "    d2 = d1-sgm*np.sqrt(T)\n",
        "    if callput==1:\n",
        "        return S*norm.cdf(d1) - K*np.exp(-r*T)*norm.cdf(d2)\n",
        "    else:\n",
        "        return K*np.exp(-r*T)*norm.cdf(-d2) - S*norm.cdf(-d1)\n",
        "\n",
        "stock = float(input('Enter the underlying stock price: '))\n",
        "strike = float(input('Enter the strike price: '))\n",
        "sigma = float(input('Enter the volatility: '))\n",
        "interest = float(input('Enter continuously compounded interest rate: '))\n",
        "maturity = float(input('Enter the time to maturity: '))\n",
        "callput = int(input('Enter 1 for call or -1 for put option: '))\n",
        "print('The option price is: ')\n",
        "print(BlackScholes(stock,strike,sigma,interest,maturity,callput))\n"
      ]
    },
    {
      "cell_type": "markdown",
      "id": "a4dc3ad4",
      "metadata": {
        "id": "a4dc3ad4"
      },
      "source": [
        "# Monte Carlo simulation\n",
        "The goal is to calculate the expected value of a function $f(\\cdot)$ of a random variable $x$, where the distribution of $x$ is given by the probability density $\\psi(x)$, i.e.1\n",
        "$$\n",
        "E[f(x)]=\\int_{-\\infty}^{\\infty}f(x)\\psi(x)dx\n",
        "$$"
      ]
    },
    {
      "cell_type": "markdown",
      "id": "5c1da3f5",
      "metadata": {
        "id": "5c1da3f5"
      },
      "source": [
        "## Outline of the Monte Carlo simulation\n",
        "1. Establish a procedure for drawing variates $x$ from the target distribution $\\psi(x)$.\n",
        "2. Initialise the variables:\n",
        "   RunningSum = 0\n",
        "   RunningSumSquared = 0\n",
        "   $i=1$\n",
        "3. Draw a realisation $x_i$ from the target distribution.\n",
        "4. Add $f(x_i)$ to RunningSum and  $(f(x_i))^2$ to RunningSumSquared.\n",
        "5. Increment the counter $i$. If $i$ is less than the maximum number of iterations, go to step 3.\n",
        "6. Calculate the simulated mean by dividing RunningSum by the total number of iterations.\n",
        "7. Calculate the variance of the simulations by dividing RunningSumSquared by the total number of iterations and subtracting the square of the mean."
      ]
    },
    {
      "cell_type": "markdown",
      "id": "b664e368",
      "metadata": {
        "id": "b664e368"
      },
      "source": [
        "## Error estimation for Monte Carlo methods\n",
        "By the Central Limit Theorem, we know that for a large number $N$ of simulations, the simulation mean $X_N$ is approximately normally distributed, with standard deviation\n",
        "$$\n",
        "\\sqrt{\\frac{\\sigma^2}N}\n",
        "$$\n",
        "where the simulation variance is an estimate for $\\sigma^2$.\n",
        "\n",
        "Thus, if there is no bias, the simulation mean is normally distributed around the target value with a standard deviation, which decreases with $\\sqrt{N}$.\n",
        "\n",
        "A 95% confidence interval for the target value is therefore approximately given by\n",
        "$$\n",
        "\\left[X_N-2\\sqrt{\\frac{\\sigma^2}N};X_N+2\\sqrt{\\frac{\\sigma^2}N}\\right]\n",
        "$$\n",
        "\n",
        "<font color='red'>**Monte Carlo simulation without error bounds is meaningless!**</font>"
      ]
    },
    {
      "cell_type": "markdown",
      "id": "334e546d",
      "metadata": {
        "id": "334e546d"
      },
      "source": [
        "The NumPy function `random.standard_normal()` returns a random variate drawn from the standard normal distribution, while `random.standard_normal(n)` returns `n` such variates in a Numpy array:"
      ]
    },
    {
      "cell_type": "code",
      "execution_count": 4,
      "id": "e55ea48c",
      "metadata": {
        "id": "e55ea48c",
        "colab": {
          "base_uri": "https://localhost:8080/"
        },
        "outputId": "d4d87c4a-1b30-4881-8652-557199edc4b6"
      },
      "outputs": [
        {
          "output_type": "stream",
          "name": "stdout",
          "text": [
            "-0.8468212793182863\n",
            "[ 1.01119352 -1.34679425  0.04025612 -0.91037729 -1.22219835]\n"
          ]
        }
      ],
      "source": [
        "import numpy as np\n",
        "print(np.random.standard_normal())\n",
        "n = 5\n",
        "print(np.random.standard_normal(n))"
      ]
    },
    {
      "cell_type": "markdown",
      "id": "7aa4134a",
      "metadata": {
        "id": "7aa4134a"
      },
      "source": [
        "\n",
        "\n",
        "```\n",
        "# This is formatted as code\n",
        "```\n",
        "\n",
        "Recall that a standard normal random variable can be converted into a normal random variable of desired mean and standard deviation by multiplying by the standard deviation and adding the mean."
      ]
    },
    {
      "cell_type": "markdown",
      "id": "caaab61e",
      "metadata": {
        "id": "caaab61e"
      },
      "source": [
        "## Monte Carlo pricing of a Black/Scholes call option\n",
        "In the Black/Scholes model, the price of the underlying stock follows Geometric Brownian motion, with the dynamics under the risk-neutral measure given by\n",
        "$$S(T)=S(t)\\exp\\left\\{\\left(r−\\frac12\\sigma^2\\right)(T−t)+\\sigma(W(T)−W(t))\\right\\}$$\n",
        "Recall that the time 0 price of a European call option (and analogously the put option) expiring at time $T$ with strike price $K$ can be expressed as the expectation under the risk-neutral measure of\n",
        "$$C=E\\left[e^{−rT}\\max(0,S(T)−K)\\right]$$\n",
        "Thus we can write a Python function which calculates the Monte Carlo estimate `MC` for the Black/Scholes price of the option and the standard deviation `MCstd` of the simulation mean, where the function takes seven arguments (in this order): $S$, $K$, $\\sigma$, $r$, $T$, a 1 for a call or -1 for a put, and $n$, the number of sampling iterations of the Monte Carlo algorithm:"
      ]
    },
    {
      "cell_type": "code",
      "execution_count": 5,
      "id": "df206b66",
      "metadata": {
        "id": "df206b66"
      },
      "outputs": [],
      "source": [
        "def BlackScholesMC(S,K,sgm,r,T,callput,n):\n",
        "    w = np.random.standard_normal(n)\n",
        "    ST=S*np.exp((r-0.5*sgm**2)*T+sgm*np.sqrt(T)*w)\n",
        "    payoff=callput*(ST-K)\n",
        "    payoff=payoff*(payoff>0)\n",
        "    MC=np.exp(-r*T)*np.mean(payoff)\n",
        "    MCstd=np.exp(-r*T)*np.std(payoff)/np.sqrt(n)\n",
        "    return MC, MCstd"
      ]
    },
    {
      "cell_type": "markdown",
      "id": "96c4665a",
      "metadata": {
        "id": "96c4665a"
      },
      "source": [
        "To run this code with user inputs:"
      ]
    },
    {
      "cell_type": "code",
      "execution_count": 6,
      "id": "59c43dec",
      "metadata": {
        "id": "59c43dec",
        "colab": {
          "base_uri": "https://localhost:8080/"
        },
        "outputId": "feadf5fe-06b4-4a8d-d28a-a8ccc3b12af8"
      },
      "outputs": [
        {
          "output_type": "stream",
          "name": "stdout",
          "text": [
            "Enter the underlying stock price: 100\n",
            "Enter the strike price: 100\n",
            "Enter the volatility: 0.3\n",
            "Enter continuously compounded interest rate: 0.05\n",
            "Enter the time to maturity: 2\n",
            "Enter 1 for call or -1 for put option: 1\n",
            "Enter the number of simulations: 10000\n",
            "The MC estimate for the option price is: \n",
            "21.818171533197617\n",
            "The 2 standard deviation confidence interval for the option price is: \n",
            "21.099403803433365 22.53693926296187\n"
          ]
        }
      ],
      "source": [
        "stock = float(input('Enter the underlying stock price: '))\n",
        "strike = float(input('Enter the strike price: '))\n",
        "sigma = float(input('Enter the volatility: '))\n",
        "interest = float(input('Enter continuously compounded interest rate: '))\n",
        "maturity = float(input('Enter the time to maturity: '))\n",
        "callput = int(input('Enter 1 for call or -1 for put option: '))\n",
        "n = int(input('Enter the number of simulations: '))\n",
        "MC, MCstd = BlackScholesMC(stock,strike,sigma,interest,maturity,callput,n)\n",
        "print('The MC estimate for the option price is: ')\n",
        "print(MC)\n",
        "print('The 2 standard deviation confidence interval for the option price is: ')\n",
        "print(MC-2*MCstd,MC+2*MCstd)"
      ]
    },
    {
      "cell_type": "markdown",
      "id": "030fa6da",
      "metadata": {
        "id": "030fa6da"
      },
      "source": [
        "## Task 3\n",
        "Consider a European call option with maturity $T$ on a foreign asset $\\tilde S$, which pays (in domestic currency) at time $T$\n",
        "$$\n",
        "\\max[0,X(T)\\tilde S(T)-X(0)\\tilde S(T)]\n",
        "$$\n",
        "Assume that $\\tilde S$ follows the dynamics (under the foreign risk--neutral measure) of\n",
        "\\begin{eqnarray*}\n",
        "d\\tilde S(t) &=& \\tilde S(t)(\\tilde rdt+\\xi d\\tilde W(t))\n",
        "\\end{eqnarray*}\n",
        "and the exchange rate $X$ (in units of domestic currency per unit of foreign currency) follows the dynamics (under the domestic risk--neutral measure) of\n",
        "\\begin{eqnarray*}\n",
        "dX(t) &=& X(t)((r-\\tilde r)dt+\\sigma dW(t))\n",
        "\\end{eqnarray*}\n",
        "with $W(t)$ and $\\tilde W(t)$ two--dimensional standard Brownian motions under the respective measures, $r$ and $\\tilde r$ scalar constants, and $\\xi$ and $\\sigma$ are two--dimensional constant vectors.\n",
        "### Task 3(a)\n",
        "Using the scaffold provided, write a Python function which calculates the price of the option, where the function takes eight arguments (in this order): $\\tilde S(0)$, $X(0)$, $r$, $\\tilde r$, $T$, the Black/Scholes volatility of $\\tilde S$, the Black/Scholes volatility of $X$ and the correlation coefficient between the dynamics of $\\tilde S$ and $X$. <em>(9 marks)</em>"
      ]
    },
    {
      "cell_type": "markdown",
      "source": [
        "\n",
        "Derivation:\n",
        "\n",
        "\\begin{align}\n",
        "V(t, X(t), \\tilde{S}(t)) &= \\mathbb{E}_\\beta\\left[ e^{-r(T-t)} \\max\\left(0, X(T) \\tilde{S}(T) - X(0) \\tilde{S}(T) \\right) \\mid \\mathcal{F}_t \\right] \\\\\n",
        "&= e^{-r(T-t)} \\mathbb{E}_\\beta \\left[ X(T) \\tilde{S}(T) \\, \\mathbb{I}_{\\{ X(T) \\tilde{S}(T) > X(0) \\tilde{S}(T) \\}} \\mid \\mathcal{F}_t \\right] \\notag \\\\\n",
        "&\\quad - e^{-r(T-t)} \\mathbb{E}_\\beta \\left[ X(0) \\tilde{S}(T) \\, \\mathbb{I}_{\\{ X(T) \\tilde{S}(T) > X(0) \\tilde{S}(T) \\}} \\mid \\mathcal{F}_t \\right] \\notag\n",
        "\\end{align}\n",
        "\n",
        "1) Using Ito's Lemma, we get:\n",
        "\\begin{align*}\n",
        "\\tilde{S}(T) &= \\tilde{S}(t) \\exp\\left( \\left( \\tilde{r} - \\frac{1}{2} \\|\\xi\\|^2 \\right)(T - t) + \\xi \\left( \\tilde{W}(T) - \\tilde{W}(t) \\right) \\right) \\\\\n",
        "\\ln \\tilde{S}(T) \\mid \\mathcal{F}_t &\\overset{Q_{\\tilde{\\beta}}}{\\sim} \\mathcal{N} \\left( \\ln \\tilde{S}(t) + \\left( r - \\frac{1}{2} \\|\\xi\\|^2 \\right)(T - t),\\|\\xi\\|^2 (T - t) \\right)\n",
        "\\end{align*}\n",
        "\n",
        "\\begin{align*}\n",
        "X(T) &= X(t) \\exp\\left( \\left( r - \\tilde{r} - \\frac{1}{2} \\|\\sigma\\|^2 \\right)(T - t) + \\sigma \\left(W(T) - W(t) \\right) \\right) \\\\\n",
        "\\ln X(T) \\mid \\mathcal{F}_t &\\overset{Q_\\beta}{\\sim} \\mathcal{N} \\left( \\ln X(t) + \\left( r - \\tilde{r} - \\frac{1}{2} \\|\\sigma\\|^2 \\right)(T - t),\\ \\|\\sigma\\|^2 (T - t) \\right)\n",
        "\\end{align*}\n",
        "\n",
        "2) First term:\n",
        "\n",
        "\\begin{align*}\n",
        "& e^{-r(T-t)} \\, \\mathbb{E}_{\\beta} \\left[ X(T) \\tilde{S}(T) \\mathbb{I}_{\\{ X(T) \\tilde{S}(T) > X(0) \\tilde{S}(T) \\}} \\mid \\mathcal{F}_t \\right] \\\\\n",
        "& \\text{Recall that } \\frac{X(T) \\tilde{S}(T)}{\\beta(T)} \\text{ is a martingale under } \\mathbb{Q}_\\beta \\\\\n",
        "& \\text{so the Radon-Nikodym derivative for the change of measure to } \\mathbb{Q}_{\\tilde{S}} \\text{ is given by:} \\\\\n",
        "& \\quad \\frac{d \\mathbb{Q}_{\\tilde{S}}}{d \\mathbb{Q}_\\beta} = \\frac{X(T) \\tilde{S}(T) \\beta(t)}{\\beta(T) X(t) \\tilde{S}(t)} \\\\\n",
        "& \\text{which corresponds to the exponential martingale:} \\\\\n",
        "& \\left. \\frac{d \\mathbb{Q}_{\\tilde{S}}}{d \\mathbb{Q}_\\beta} \\right|_{\\mathcal{F}_t}\n",
        "= \\exp\\left( \\int_t^T (\\sigma + \\xi) \\, dW_\\beta(u) - \\frac{1}{2} \\int_t^T (\\sigma + \\xi)^2 \\, du \\right) \\\\\n",
        "& \\text{and under this new measure } \\mathbb{Q}_{\\tilde{S}}, \\text{ the process has volatility } (\\sigma + \\xi) \\\\\n",
        "\\\\\n",
        "& \\text{By Girsanov's theorem, the Brownian motion under } \\mathbb{Q}_{\\tilde{S}} \\text{ is:} \\\\\n",
        "& \\quad dW_{\\tilde{S}}(t) = dW_\\beta(t) - (\\sigma + \\xi)dt \\\\\n",
        "& \\text{so under } \\mathbb{Q}_{\\tilde{S}}: \\\\\n",
        "& \\quad X(T) = X(t) \\exp \\left( \\left( r - \\tilde{r} + \\frac{1}{2} \\|\\sigma\\|^2 + \\sigma^{\\top} \\xi \\right)(T - t)\n",
        "+ \\sigma \\left( W_{\\tilde{S}}(T) - W_{\\tilde{S}}(t) \\right) \\right) \\\\\n",
        "& \\text{which implies:} \\\\\n",
        "& \\quad \\ln X(T) \\mid \\mathcal{F}_t \\overset{\\mathbb{Q}_{\\tilde{S}}}{\\sim} \\mathcal{N} \\left( \\ln X(t) + \\left( r - \\tilde{r} + \\frac{1}{2} \\|\\sigma\\|^2 + \\sigma^{\\top} \\xi \\right)(T - t), \\|\\sigma\\|^2 (T - t) \\right)\n",
        "\\end{align*}\n",
        "\n",
        "\\begin{align*}\n",
        "& \\text{Inserting the Radon-Nikodym derivative into the expectation and changing measure to } \\mathbb{Q}_{\\tilde{S}} \\\\\n",
        "& e^{-r(T - t)} \\, \\mathbb{E}_{\\tilde{S}} \\left[ \\left. X(T) \\tilde{S}(T) \\mathbb{I}_{\\{ X(T) \\tilde{S}(T) > X(0) \\tilde{S}(T) \\}} \\frac{\\beta(T) X(t) \\tilde{S}(t)}{X(T) \\tilde{S}(T) \\beta(t)} \\right| \\mathcal{F}_t \\right] \\\\\n",
        "&= X(t) \\tilde{S}(t) \\mathbb{Q}_{\\tilde{S}} \\left( X(T) > X(0) \\right) \\\\\n",
        "&= X(t) \\tilde{S}(t) N \\left( \\frac{ \\ln \\left( \\frac{X(t)}{X(0)} \\right) + \\left( r - \\tilde{r} + \\frac{1}{2} \\|\\sigma\\|^2 + \\sigma^{\\top} \\xi \\right)(T - t) }{ \\sigma \\sqrt{T - t} } \\right)\n",
        "\\end{align*}\n",
        "\n",
        "3) Second term:\n",
        "\n",
        "\\begin{align*}\n",
        "& e^{-r(T - t)} \\, \\mathbb{E}_\\beta \\left[ X(0) \\tilde{S}(T) \\, \\mathbb{I}_{\\{ X(T)\\tilde{S}(T) > X(0)\\tilde{S}(T) \\}} \\mid \\mathcal{F}_t \\right] \\\\\n",
        "& \\text{When attempting to change measure to remove the } \\tilde{S}(T) \\text{ term, note that:} \\\\\n",
        "& \\frac{\\tilde{S}(T)}{\\beta(T)} \\quad \\text{does not have a martingale form, as we are measuring foreign/domestic.}\n",
        "\\end{align*}\n",
        "\n",
        "Recall the form of the exponential martingale:\n",
        "\\begin{align*}\n",
        "\\exp\\left( \\int_t^T \\xi \\, dW_\\beta(u) - \\frac{1}{2} \\int_t^T \\|\\xi\\|^2 \\, du \\right)\n",
        "\\end{align*}\n",
        "\n",
        "So the eventual Radon-Nikodym derivative must be of the form:\n",
        "\\begin{align*}\n",
        "\\frac{\\tilde{S}(T)}{\\beta(T)} \\frac{\\beta(t)}{\\tilde{S}(t)}  C\n",
        "= \\exp\\left( \\int_t^T \\xi \\, dW_\\beta(u) - \\frac{1}{2} \\int_t^T \\|\\xi\\|^2 \\, du \\right)\n",
        "\\end{align*}\n",
        "\n",
        "which has the exponential martingale form.\n",
        "\n",
        "Firstly, we want to change measure from $\\tilde{\\beta} \\rightarrow \\beta$ for the process $\\tilde{S}(T)$\n",
        "\n",
        "\\begin{aligned}\n",
        "& \\text{So the Radon-Nikodym derivative for the change of measure from } \\mathbb{Q}_{\\tilde{\\beta}} \\text{ to } \\mathbb{Q}_\\beta \\text{ is given by} \\\\\n",
        "& \\frac{d \\mathbb{Q}_\\beta}{d \\mathbb{Q}_{\\tilde{\\beta}}} \\bigg|_{\\mathcal{F}_t}\n",
        "= \\frac{\\tilde{B}(T) X(T)}{\\beta(T)} \\frac{\\beta(t)}{\\beta(t) X(t)}\n",
        "\\end{aligned}\n",
        "\n",
        "Using Girsanov's theorem:\n",
        "\\begin{aligned}\n",
        "d W_{\\tilde{\\beta}}(t) &= d W_\\beta(t) - \\sigma\\, dt\n",
        "\\end{aligned}\n",
        "\n",
        "\\begin{align*}\n",
        "\\text{Substituting into the expression for } \\tilde{S}(T) \\text{ under } \\mathbb{Q}_\\beta\\text{:} \\\\\n",
        "\\tilde{S}(T) &= \\tilde{S}(t) \\exp\\left( \\left( \\tilde{r} - \\frac{1}{2} \\|\\xi\\|^2 - \\sigma^\\top \\xi \\right)(T - t)\n",
        "+ \\xi \\left( W_\\beta(T) - W_\\beta(t) \\right) \\right)\n",
        "\\end{align*}\n",
        "\n",
        "\n",
        "Then, solving for C:\n",
        "\n",
        "\\begin{aligned}\n",
        "& e^{\\left( \\tilde{r} - \\frac{1}{2} \\|\\xi\\|^2 - \\sigma^{\\top} \\xi - r \\right)(T - t)\n",
        "+ \\xi \\left(W_\\beta(T) - W_\\beta(t)\\right)} e^{-r(T - t)} C \\\\\n",
        "=\\, & e^{ -\\frac{1}{2} \\|\\xi\\|^2 (T - t) + \\xi \\left(W_\\beta(T) - W_\\beta(t)\\right) }\n",
        "\\end{aligned}\n",
        "\n",
        "\\begin{aligned}\n",
        "& C = \\frac{1}{e^{(\\tilde{r} - \\sigma^{\\top} \\xi - r)(T - t)}}\n",
        "\\end{aligned}\n",
        "\n",
        "\\begin{aligned}\n",
        "\\frac{1}{C} = e^{(\\tilde{r} - \\sigma^{\\top} \\xi - r)(T - t)}\n",
        "\\end{aligned}\n",
        "\n",
        "\n",
        "Now, changing to some arbitrary measure 1 by inserting the Radon-Nikodym derivative into the expectation\n",
        "$$\n",
        "\\begin{aligned}\n",
        "& e^{-r(T - t)} X(0)\\, \\mathbb{E}_1\\left[\\,\\left. \\tilde{S}(T) \\mathbf{I}_{\\{X(T) > X(0)\\}} \\frac{\\tilde{S}(T) \\beta(T)}{\\tilde{S}(T) \\beta(t)} e^{(\\tilde{r} - \\sigma^{\\top} \\xi - r)(T - t)} \\,\\right|\\, \\mathcal{F}_t \\right] \\\\\n",
        "=\\, & e^{(\\tilde{r} - \\sigma^{\\top} \\xi - r)(T - t)} X(0) \\tilde{S}(t)\\, \\mathbb{Q}_1\\left(X(T) > X(0) \\right)\n",
        "\\end{aligned}\n",
        "$$\n",
        "\n",
        "We need the distribution of $X(T)$ under $Q_1$. Using Girsanov's thereom \\\n",
        "\\begin{align*}\n",
        "dW_1(t) &= dW_{\\beta}(t) - \\xi\\, dt\n",
        "\\end{align*}\n",
        "\n",
        "We can insert into the equation for X(T) $$\n",
        "\\begin{aligned}\n",
        "& X(T)=X(t) e^{\\left(r-\\tilde{r}-\\frac{1}{2} \\|\\sigma\\|^2 +\\sigma^{\\top} \\xi \\right)(T-t) + \\sigma\\left(W_1(T)-W_1(t)\\right)} \\\\\n",
        "& \\therefore \\ln X(T) \\left\\lvert\\, F_t \\stackrel{Q_1}{\\sim}\\left(\\ln X(t)+\\left(r-\\tilde{r}-\\frac{1}{2} \\|\\sigma\\|^2 +\\sigma^{\\top} \\xi \\right)(T-t), |ins|\\sigma\\|^2(T-t)\\right)\\right.\n",
        "\\end{aligned}\n",
        "$$\n",
        "\n",
        "Feeding that into the above probability, we have:\n",
        "$$\n",
        "e^{(\\tilde{r}-\\sigma^{\\top} \\xi -r)(T-t)} X(0) \\tilde{S}(t) N \\left( \\frac{ \\ln \\left( \\frac{X(t)}{X(0)} \\right) + \\left( r - \\tilde{r} - \\frac{1}{2} \\|\\sigma\\|^2 + \\sigma^{\\top} \\xi \\right)(T - t) }{ \\sigma \\sqrt{T - t} } \\right)\n",
        "$$\n",
        "\n",
        "So the price of the option is:\n",
        "$$\n",
        "= X(t) \\tilde{S}(t) N \\left( \\frac{ \\ln \\left( \\frac{X(t)}{X(0)} \\right) + \\left( r - \\tilde{r} + \\frac{1}{2} \\|\\sigma\\|^2 + \\sigma^{\\top} \\xi \\right)(T - t) }{ \\sigma \\sqrt{T - t} } \\right) \\\\\n",
        "- e^{(\\tilde{r}-\\sigma^{\\top} \\xi -r)(T-t)} X(0) \\tilde{S}(t) N \\left( \\frac{ \\ln \\left( \\frac{X(t)}{X(0)} \\right) + \\left( r - \\tilde{r} - \\frac{1}{2} \\|\\sigma\\|^2 + \\sigma^{\\top} \\xi \\right)(T - t) }{ \\sigma \\sqrt{T - t} } \\right) \\\\\n",
        "$$\n",
        "\n",
        "Where $\\sigma^{\\top} \\xi = \\rho \\sigma \\xi$\n",
        "\n"
      ],
      "metadata": {
        "id": "_vUy-RkqrUDY"
      },
      "id": "_vUy-RkqrUDY"
    },
    {
      "cell_type": "code",
      "source": [
        "import math\n",
        "import numpy as np\n",
        "from scipy.stats import norm\n",
        "def Task3Option(S,X,r,r_f,T,volS,volX,rho):\n",
        "    sqrt_T = math.sqrt(T)\n",
        "    log_term = math.log(X / X)\n",
        "    d1_num = log_term + (r - r_f + 0.5 * volX**2 + rho * volX * volS) * T\n",
        "    d1 = d1_num / (volX * sqrt_T)\n",
        "    d2_num = log_term + (r - r_f - 0.5 * volX**2 + rho * volX * volS) * T\n",
        "    d2 = d2_num / (volX * sqrt_T)\n",
        "    term1 = X * S * norm.cdf(d1)\n",
        "    exp_term = math.exp((r_f - rho * volX * volS - r) * T)\n",
        "    term2 = X * S * exp_term * norm.cdf(d2)\n",
        "    return term1 - term2"
      ],
      "metadata": {
        "id": "J-pn0fkLfugQ"
      },
      "id": "J-pn0fkLfugQ",
      "execution_count": 7,
      "outputs": []
    },
    {
      "cell_type": "code",
      "source": [
        "S = float(input(\"Enter S~(0): \"))\n",
        "X = float(input(\"Enter X(0): \"))\n",
        "r = float(input(\"Enter r: \"))\n",
        "r_f = float(input(\"Enter r~: \"))\n",
        "T = float(input(\"Enter T: \"))\n",
        "volS = float(input(\"Enter volS: \"))\n",
        "volX = float(input(\"Enter volX: \"))\n",
        "rho = float(input(\"Enter rho: \"))\n",
        "price = Task3Option(S, X, r, r_f, T, volS, volX, rho)\n",
        "print(f\"The price of the option is {price}\")"
      ],
      "metadata": {
        "colab": {
          "base_uri": "https://localhost:8080/"
        },
        "id": "XDJJ5msRHyO5",
        "outputId": "3caf1ae4-ed11-43bc-bc1d-89a504008439"
      },
      "id": "XDJJ5msRHyO5",
      "execution_count": 8,
      "outputs": [
        {
          "output_type": "stream",
          "name": "stdout",
          "text": [
            "Enter S~(0): 100\n",
            "Enter X(0): 1.5\n",
            "Enter r: 0.04\n",
            "Enter r~: 0.05\n",
            "Enter T: 2\n",
            "Enter volS: 0.3\n",
            "Enter volX: 0.08\n",
            "Enter rho: .25\n",
            "The price of the option is 6.208394043356222\n"
          ]
        }
      ]
    },
    {
      "cell_type": "code",
      "source": [
        "#taking the tutorial values as an example\n",
        "Task3Option(100,1.5,0.04,0.05,2,0.3,0.08,0.25)"
      ],
      "metadata": {
        "colab": {
          "base_uri": "https://localhost:8080/"
        },
        "id": "ls03Fzt_GszH",
        "outputId": "12d4d8f1-9dd8-4813-9c5d-618c533d0fba"
      },
      "id": "ls03Fzt_GszH",
      "execution_count": 32,
      "outputs": [
        {
          "output_type": "execute_result",
          "data": {
            "text/plain": [
              "np.float64(6.208394043356222)"
            ]
          },
          "metadata": {},
          "execution_count": 32
        }
      ]
    },
    {
      "cell_type": "markdown",
      "source": [
        "### Task 3(b)\n",
        "Calculate the price of this option by Monte Carlo simulation and use this to verify that your implementation of Task 3(a) is correct. *(12 marks)*"
      ],
      "metadata": {
        "id": "uOydcE_sMcpo"
      },
      "id": "uOydcE_sMcpo"
    },
    {
      "cell_type": "code",
      "execution_count": 33,
      "id": "b5c8b706",
      "metadata": {
        "id": "b5c8b706"
      },
      "outputs": [],
      "source": [
        "def Task3OptionMC(S, X, r, r_f, T, volS, volX, rho, n):\n",
        "    Z1 = np.random.standard_normal(n)\n",
        "    Z2 = np.random.standard_normal(n) # start with two independent samples\n",
        "    Z_S = Z1\n",
        "    Z_X = rho * Z1 + np.sqrt(1 - rho**2) * Z2 # introduce the correlation of ZX with ZS.\n",
        "    mu_S = r_f - rho * volS * volX - 0.5 * volS**2 # this is from the measure change from Beta~ to Beta, reflecting the quanto drift adjustment due to correlation.\n",
        "    ST = S * np.exp(mu_S * T + volS * np.sqrt(T) * Z_S) #simulating ST. also note that that W~(0,T) so that's why we need to multiply Z_S by the square root time\n",
        "    mu_X = r - r_f - 0.5 * volX**2 # under original Beta measure\n",
        "    XT = X * np.exp(mu_X * T + volX * np.sqrt(T) * Z_X) # Simulating XT, already under the domestic risk neutral measure (Beta)\n",
        "    payoff = np.maximum(0, XT*ST - X*ST)\n",
        "    MC = np.exp(-r * T) * np.mean(payoff)\n",
        "    MCstd = np.exp(-r * T) * np.std(payoff) / np.sqrt(n)\n",
        "    return MC, MCstd,"
      ]
    },
    {
      "cell_type": "code",
      "source": [
        "foreignstock = float(input(\"Enter S~(0): \"))\n",
        "exchangerate = float(input(\"Enter X(0): \"))\n",
        "r = float(input(\"Enter r: \"))\n",
        "r_f = float(input(\"Enter r~: \"))\n",
        "Time = float(input(\"Enter T: \"))\n",
        "volS = float(input(\"Enter volS: \"))\n",
        "volX = float(input(\"Enter volX: \"))\n",
        "rho = float(input(\"Enter rho: \"))\n",
        "n = int(input('Enter the number of simulations: '))\n",
        "MC, MCstd = Task3OptionMC(foreignstock, exchangerate, r, r_f, Time, volS, volX, rho, n)\n",
        "print('The MC estimate for the option price is: ')\n",
        "print(MC)\n",
        "print('The MC standard deviation is: ')\n",
        "print(MCstd)\n",
        "print('The 2 standard deviation confidence interval for the option price is: ')\n",
        "print(MC-2*MCstd,MC+2*MCstd)"
      ],
      "metadata": {
        "colab": {
          "base_uri": "https://localhost:8080/"
        },
        "id": "sPEtfb6Kblim",
        "outputId": "b3f45a3e-3532-4a1f-f2e6-e8edb960b5dd"
      },
      "id": "sPEtfb6Kblim",
      "execution_count": 35,
      "outputs": [
        {
          "output_type": "stream",
          "name": "stdout",
          "text": [
            "Enter S~(0): 100\n",
            "Enter X(0): 1.5\n",
            "Enter r: 0.04\n",
            "Enter r~: 0.05\n",
            "Enter T: 2\n",
            "Enter volS: 0.3\n",
            "Enter volX: 0.08\n",
            "Enter rho: 0.25\n",
            "Enter the number of simulations: 100000\n",
            "The MC estimate for the option price is: \n",
            "6.197271739207403\n",
            "The MC standard deviation is: \n",
            "0.04063585021587798\n",
            "The 2 standard deviation confidence interval for the option price is: \n",
            "6.116000038775646 6.278543439639159\n"
          ]
        }
      ]
    },
    {
      "cell_type": "code",
      "source": [
        "np.random.seed(123) # fixing result by setting a seed\n",
        "\n",
        "S = 100\n",
        "X = 1.5\n",
        "r = 0.04\n",
        "r_f = 0.05\n",
        "T = 2\n",
        "volS = 0.3\n",
        "volX = 0.08\n",
        "rho = 0.25\n",
        "n = 100000\n",
        "\n",
        "mc_price, mc_error = Task3OptionMC(S, X, r, r_f, T, volS, volX, rho, n)\n",
        "print(f\"Monte Carlo price: {mc_price:.4f} ± {1.96 * mc_error:.4f} (95% CI)\")\n",
        "print(f\"MC standard deviation: {mc_error:.4f}\")"
      ],
      "metadata": {
        "colab": {
          "base_uri": "https://localhost:8080/"
        },
        "id": "8_CDP84zarxw",
        "outputId": "9af97ec2-2f07-4c22-d019-ad20a45400ff"
      },
      "id": "8_CDP84zarxw",
      "execution_count": 36,
      "outputs": [
        {
          "output_type": "stream",
          "name": "stdout",
          "text": [
            "Monte Carlo price: 6.2342 ± 0.0797 (95% CI)\n",
            "MC standard deviation: 0.0406\n"
          ]
        }
      ]
    },
    {
      "cell_type": "code",
      "source": [
        "# Tutorial inputs for verification\n",
        "S = 100\n",
        "X = 1.5\n",
        "r = 0.04\n",
        "r_f = 0.05\n",
        "T = 2\n",
        "volS = 0.3\n",
        "volX = 0.08\n",
        "rho = 0.25\n",
        "\n",
        "# Analytical price (Task 3(a))\n",
        "analytical_price = Task3Option(S, X, r, r_f, T, volS, volX, rho)\n",
        "print(f\"Analytical price (Task 3(a)): {analytical_price:.6f}\")\n",
        "\n",
        "# MC price\n",
        "n = 100000\n",
        "mc_price, mc_std = Task3OptionMC(S, X, r, r_f, T, volS, volX, rho, n)\n",
        "print(f\"MC price (Task 3(b)): {mc_price:.6f} (Std Error: {mc_std:.6f})\")\n",
        "\n",
        "# Verification check\n",
        "difference = abs(analytical_price - mc_price)\n",
        "within_2_std = difference < 2 * mc_std\n",
        "print(f\"Difference: {difference:.6f}\")\n",
        "print(f\"Within 2 Std Errors? {within_2_std}\")"
      ],
      "metadata": {
        "colab": {
          "base_uri": "https://localhost:8080/"
        },
        "id": "zpvG7YKLAOGf",
        "outputId": "09bf5a71-159b-4b05-ce78-7de8ae330ab3"
      },
      "id": "zpvG7YKLAOGf",
      "execution_count": 31,
      "outputs": [
        {
          "output_type": "stream",
          "name": "stdout",
          "text": [
            "Analytical price (Task 3(a)): 6.208394\n",
            "MC price (Task 3(b)): 6.203797 (Std Error: 0.040776)\n",
            "Difference: 0.004597\n",
            "Within 2 Std Errors? True\n"
          ]
        }
      ]
    },
    {
      "cell_type": "markdown",
      "source": [
        "Since the difference between the Monte Carlo estimate and the analytical price is less than 2 standard errors, we can conclude that the Monte Carlo result is statistically consistent with/verifies the analytical solution from Task 3(a). This is because, under the assumptions of the central limit thereom and normally distributed noise, about 95% of Monte Carlo estimates are expected to fall within ±2 standard errors of the true value. We can therefore say that with 95% confidence, the interval given by the Monte Carlo estimate ±2 standard errors contains the true value."
      ],
      "metadata": {
        "id": "jQyy3iwBC6WO"
      },
      "id": "jQyy3iwBC6WO"
    }
  ],
  "metadata": {
    "kernelspec": {
      "display_name": "Python 3 (ipykernel)",
      "language": "python",
      "name": "python3"
    },
    "language_info": {
      "codemirror_mode": {
        "name": "ipython",
        "version": 3
      },
      "file_extension": ".py",
      "mimetype": "text/x-python",
      "name": "python",
      "nbconvert_exporter": "python",
      "pygments_lexer": "ipython3",
      "version": "3.10.12"
    },
    "colab": {
      "provenance": [],
      "include_colab_link": true
    }
  },
  "nbformat": 4,
  "nbformat_minor": 5
}