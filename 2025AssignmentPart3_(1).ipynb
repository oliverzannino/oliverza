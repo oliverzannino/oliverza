{
  "cells": [
    {
      "cell_type": "markdown",
      "metadata": {
        "id": "view-in-github",
        "colab_type": "text"
      },
      "source": [
        "<a href=\"https://colab.research.google.com/github/oliverzannino/oliverza/blob/main/2025AssignmentPart3_(1).ipynb\" target=\"_parent\"><img src=\"https://colab.research.google.com/assets/colab-badge.svg\" alt=\"Open In Colab\"/></a>"
      ]
    },
    {
      "cell_type": "markdown",
      "metadata": {
        "id": "7iYMSGVGnnnm"
      },
      "source": [
        "<h1 style=\"font-family:Impact,Arial;font-size:30px;\">37004 Interest Rates and Credit Risk Models - Spring 2025</h1>\n",
        "<h1 style=\"font-family:Impact,Arial;font-size:45px;\">Assignment Part 3</h1>\n",
        "<h2 style=\"font-family:Arial;\">Erik Schl&ouml;gl</h2>\n",
        "<p><small> School of Mathematical &amp; Physical Sciences<br>\n",
        "University of Technology Sydney\n",
        "</small></p>\n",
        "<p>\n",
        "<a href=\"mailto:Erik.Schlogl@uts.edu.au?Subject=37000 JIT\" target=\"_blank\">\n",
        "<small><font color=MediumVioletRed>Erik.Schlogl@uts.edu.au</font></small></a>\n",
        "</p>\n",
        "<hr style=\"height:5px;border:none;color:#333;background-color:#333;\" />"
      ]
    },
    {
      "cell_type": "markdown",
      "metadata": {
        "id": "QdQZJZGwnnnq"
      },
      "source": [
        "In all the tasks below, suppose that current default–free interest rates are 3.5% continuously compounded, for all maturities. Suppose further that a corporate entity has issued &euro;120 million of corporate debt (only), paying no coupons and maturing in 10 years. This entity has a market capitalisation of &euro;28 million and the volatility of its share price is approximately 45%.\n",
        "\n",
        "<H2>Task 1:</H2>\n",
        "Using the Black-Scholes/Merton model of credit risk as explained in Lecture 7, determine the value of the debt. What is the credit spread (in terms of continuously compounded yields) for this entity? <I>(5 marks)</I>"
      ]
    },
    {
      "cell_type": "code",
      "execution_count": null,
      "metadata": {
        "colab": {
          "base_uri": "https://localhost:8080/"
        },
        "id": "fshHh3LWnnnr",
        "outputId": "2485bc46-b242-4c54-d1c5-8cccd45b84d8"
      },
      "outputs": [
        {
          "output_type": "stream",
          "name": "stdout",
          "text": [
            "Asset value V: €97892009.7318\n",
            "Asset volatility σ_V: 0.1823\n",
            "Value of the debt: €69892009.7318\n",
            "Credit spread s: 0.0190540410 (or 190.54 bps)\n",
            "Check: V0 ≈ E + D → 97892009.7318 ≈ 28000000.0000 + 69892009.7318 = 97892009.7318\n"
          ]
        }
      ],
      "source": [
        "import numpy as np\n",
        "from scipy.stats import norm\n",
        "from scipy.optimize import fsolve\n",
        "\n",
        "# Parameters\n",
        "F = 120000000\n",
        "E = 28000000\n",
        "r = 0.035\n",
        "T = 10\n",
        "sigma_E = 0.45\n",
        "\n",
        "# Precompute e^{-rT}\n",
        "exp_minus_rT = np.exp(-r * T)\n",
        "F_disc = F * exp_minus_rT\n",
        "\n",
        "# Initial guesses\n",
        "V_guess = E + F_disc\n",
        "sigma_guess = sigma_E * (E / V_guess)\n",
        "\n",
        "# System of equations\n",
        "def equations(x):\n",
        "    V, sigma_V = x\n",
        "    d1 = (np.log(V / F) + (r + 0.5 * sigma_V**2) * T) / (sigma_V * np.sqrt(T))\n",
        "    d2 = d1 - sigma_V * np.sqrt(T)\n",
        "    N_d1 = norm.cdf(d1)\n",
        "    N_d2 = norm.cdf(d2)\n",
        "    eq1 = V * N_d1 - F * exp_minus_rT * N_d2 - E\n",
        "    eq2 = (V / E) * N_d1 * sigma_V - sigma_E\n",
        "    return [eq1, eq2]\n",
        "\n",
        "# Solve the system\n",
        "initial_guess = [V_guess, sigma_guess]\n",
        "solution = fsolve(equations, initial_guess)\n",
        "V, sigma_V = solution\n",
        "\n",
        "# Compute debt value, yield, and spread\n",
        "debt_value = V - E\n",
        "y = - (1 / T) * np.log(debt_value / F)\n",
        "spread = y - r\n",
        "\n",
        "# Results (rounded for readability)\n",
        "print(f\"Asset value V: €{V:.4f}\")\n",
        "print(f\"Asset volatility σ_V: {sigma_V:.4f}\")\n",
        "print(f\"Value of the debt: €{debt_value:.4f}\")\n",
        "print(f\"Credit spread s: {spread:.10f} (or {spread * 10000:.2f} bps)\")\n",
        "\n",
        "print(f\"Check: V0 ≈ E + D → {V:.4f} ≈ {E:.4f} + {debt_value:.4f} = {E+debt_value:.4f}\")"
      ]
    },
    {
      "cell_type": "markdown",
      "metadata": {
        "id": "TLtSe4GPnnns"
      },
      "source": [
        "<H2>Task 2:</H2>\n",
        "Assume now that the default-free bond price dynamics and firm's value process are given by\n",
        "\\begin{eqnarray*}\n",
        "\\frac{dB(t,T)}{B(t,T)}&=&rdt+\\sigma_r\\cdot(T-t)dW_1(t)\\\\\n",
        "\\frac{dV(t)}{V(t)}&=&rdt+\\sigma_V\\left(\\rho\n",
        "dW_1(t)+\\sqrt{1-\\rho^2}dW_2(t)\\right)\n",
        "\\end{eqnarray*}\n",
        "with $W_1$ and $W_2$ independent Brownian motions under the spot risk-neutral measure. Assume further that the firm defaults at time $\\tau$ if\n",
        "$$\n",
        "V(\\tau)<B(\\tau,T)K\n",
        "$$\n",
        "where $T$ is the maturity of the debt and $K$ is the face value of the debt. In the event of default at time $\\tau$, the debt holders receive a total of $KcB(\\tau,T)$ at time $\\tau$.\n",
        "\n",
        "In addition to the information given above, assume $\\rho=-0.4$ and $\\sigma_r=0.018$. Determine the value of the debt as a function of $c$. Plot the credit spread (in terms of continuously compounded yields) for this entity as a function of $c$ for $0<c<1$. <I>(7 marks)</I>"
      ]
    },
    {
      "cell_type": "code",
      "source": [
        "import numpy as np\n",
        "from scipy.stats import norm\n",
        "from scipy.optimize import fsolve\n",
        "\n",
        "def barrier_default_bond_price(V0, K, B0_T, r, T, sigma_V, sigma_r, rho, c):\n",
        "    k  = np.log(V0 / (B0_T * K))\n",
        "    Q  = (sigma_V**2)*T - rho*sigma_V*sigma_r*(T**2) + (sigma_r**2)*(T**3)/3\n",
        "    sQ = np.sqrt(Q)\n",
        "    P  = norm.cdf((k + 0.5*Q)/sQ) - np.exp(-k)*norm.cdf((-k + 0.5*Q)/sQ)\n",
        "    B_frac = B0_T * (1 - (1 - c)*(1 - P))  # price as fraction of face\n",
        "    return B_frac, P, k, Q\n",
        "\n",
        "def credit_spread_cc(B_defaultable, B_riskfree, T):\n",
        "    return (-np.log(B_defaultable)/T) - (-np.log(B_riskfree)/T)\n",
        "\n",
        "# Inputs (millions)\n",
        "r       = 0.035\n",
        "T       = 10\n",
        "K       = 120          # €mm\n",
        "rho     = -0.4\n",
        "sigma_r = 0.018\n",
        "E_mkt   = 28           # €mm\n",
        "sigma_E = 0.45\n",
        "\n",
        "# Calibrate V0 and sigma_V from Merton\n",
        "def _calib(params):\n",
        "    V, sigma_V = params\n",
        "    d1 = (np.log(V/K) + (r + 0.5*sigma_V**2)*T) / (sigma_V*np.sqrt(T))\n",
        "    d2 = d1 - sigma_V*np.sqrt(T)\n",
        "    E_val = V*norm.cdf(d1) - K*np.exp(-r*T)*norm.cdf(d2)\n",
        "    dE_dV = norm.cdf(d1)\n",
        "    sigma_E_val = (dE_dV*V/E_val)*sigma_V if E_val > 0 else 0.0\n",
        "    return [E_val - E_mkt, sigma_E_val - sigma_E]\n",
        "\n",
        "V0, sigma_V = fsolve(_calib, [E_mkt + K*np.exp(-r*T), 0.30])\n",
        "B0_T = np.exp(-r*T)\n",
        "\n",
        "# Header\n",
        "print(\"Given Parameters:\")\n",
        "print(f\"Risk-free Rate (r): {r:,.2%}\")\n",
        "print(f\"Time to Maturity (T): {T} years\")\n",
        "print(f\"Face Value of Debt (K): €{K:.0f} million\")\n",
        "print(f\"Correlation (ρ): {rho}\")\n",
        "print(f\"Interest Rate Volatility (σ_r): {sigma_r:.6%}\")\n",
        "print(f\"Market Capitalization (E): €{E_mkt:.0f} million\")\n",
        "print(f\"Equity Volatility (σ_E): {sigma_E:.0%}\\n\")\n",
        "\n",
        "print(\"Calibrated Parameters (from Merton Model):\")\n",
        "print(f\"Firm Value (V0): €{V0:.4f} million\")\n",
        "print(f\"Firm Volatility (σ_V): {sigma_V*100:.4f}%\\n\")\n",
        "\n",
        "print(f\"Risk-free Bond Price B(0,T): {B0_T:.6f}\")\n",
        "print(f\"Risk-free Bond Value: €{(B0_T*K):.4f} million\\n\")\n",
        "\n",
        "# Results table\n",
        "c_values = np.round(np.linspace(0.0, 1.0, 11), 1)\n",
        "print(\"RESULTS TABLE\\n\")\n",
        "print(f\"{'Index':<6} {'c (recovery)':<14} {'Debt Value (EUR mm)':<22} {'Spread (bps)':<12}\")\n",
        "\n",
        "rows = []\n",
        "for i, c in enumerate(c_values):\n",
        "    B_frac, P_surv, k, Q = barrier_default_bond_price(V0, K, B0_T, r, T, sigma_V, sigma_r, rho, c)\n",
        "    debt_value_mm = B_frac * K\n",
        "    spread_bps = credit_spread_cc(B_frac, B0_T, T) * 1e4\n",
        "    rows.append((i, c, debt_value_mm, spread_bps, P_surv))\n",
        "    print(f\"{i:<6d} {c:<14.1f} {debt_value_mm:<22.2f} {spread_bps:<12.1f}\")\n",
        "\n",
        "# Midpoint line\n",
        "c_mid = 0.5\n",
        "B_mid, P_mid, k_mid, Q_mid = barrier_default_bond_price(V0, K, B0_T, r, T, sigma_V, sigma_r, rho, c_mid)\n",
        "spread_mid = credit_spread_cc(B_mid, B0_T, T)\n",
        "print(\"\\nMidpoint (c = 0.5):\")\n",
        "print(f\"Debt Value: €{(B_mid*K):.2f} million\")\n",
        "print(f\"Spread: {spread_mid*100:.4f}% ({spread_mid*1e4:.1f} bps)\")\n",
        "print(f\"P_survival: {P_mid*100:.4f}%\")"
      ],
      "metadata": {
        "colab": {
          "base_uri": "https://localhost:8080/"
        },
        "id": "PGN4Ybyu4pqz",
        "outputId": "78c1831e-fc25-408e-cf14-5243fa0f71ab"
      },
      "execution_count": null,
      "outputs": [
        {
          "output_type": "stream",
          "name": "stdout",
          "text": [
            "Given Parameters:\n",
            "Risk-free Rate (r): 3.50%\n",
            "Time to Maturity (T): 10 years\n",
            "Face Value of Debt (K): €120 million\n",
            "Correlation (ρ): -0.4\n",
            "Interest Rate Volatility (σ_r): 1.800000%\n",
            "Market Capitalization (E): €28 million\n",
            "Equity Volatility (σ_E): 45%\n",
            "\n",
            "Calibrated Parameters (from Merton Model):\n",
            "Firm Value (V0): €97.8920 million\n",
            "Firm Volatility (σ_V): 18.2277%\n",
            "\n",
            "Risk-free Bond Price B(0,T): 0.704688\n",
            "Risk-free Bond Value: €84.5626 million\n",
            "\n",
            "RESULTS TABLE\n",
            "\n",
            "Index  c (recovery)   Debt Value (EUR mm)    Spread (bps)\n",
            "0      0.0            18.70                  1509.1      \n",
            "1      0.1            25.28                  1207.3      \n",
            "2      0.2            31.87                  975.8       \n",
            "3      0.3            38.46                  787.9       \n",
            "4      0.4            45.04                  629.9       \n",
            "5      0.5            51.63                  493.4       \n",
            "6      0.6            58.22                  373.3       \n",
            "7      0.7            64.80                  266.1       \n",
            "8      0.8            71.39                  169.3       \n",
            "9      0.9            77.98                  81.1        \n",
            "10     1.0            84.56                  0.0         \n",
            "\n",
            "Midpoint (c = 0.5):\n",
            "Debt Value: €51.63 million\n",
            "Spread: 4.9339% (493.4 bps)\n",
            "P_survival: 22.1112%\n"
          ]
        }
      ]
    },
    {
      "cell_type": "code",
      "source": [
        "import matplotlib.pyplot as plt\n",
        "\n",
        "c_vals = [row[1] for row in rows]\n",
        "spreads_bps = [row[3] for row in rows]\n",
        "\n",
        "plt.figure(figsize=(8,5))\n",
        "plt.plot(c_vals, spreads_bps)\n",
        "plt.xlabel('Recovery Rate (c)')\n",
        "plt.ylabel('Credit Spread (bps, continuously compounded)')\n",
        "plt.title('Credit Spread vs Recovery Rate')\n",
        "plt.grid(True)\n",
        "plt.tight_layout()\n",
        "plt.show()"
      ],
      "metadata": {
        "colab": {
          "base_uri": "https://localhost:8080/",
          "height": 507
        },
        "id": "BuPHsHtz7DeJ",
        "outputId": "38e3eef8-bf22-4a35-926b-be54628bf6e2"
      },
      "execution_count": null,
      "outputs": [
        {
          "output_type": "display_data",
          "data": {
            "text/plain": [
              "<Figure size 800x500 with 1 Axes>"
            ],
            "image/png": "[encoded data removed]"
          },
          "metadata": {}
        }
      ]
    },
    {
      "cell_type": "markdown",
      "metadata": {
        "id": "gi-KwYljnnnt"
      },
      "source": [
        "<H2>Task 3:</H2>\n",
        "Returning to a model where interest rates are deterministic and default only occurs at maturity when $V(T)<K$, i.e. when the firm's value at maturity is less than the face value of the outstanding debt, consider a Poisson process $N$ with intensity $\\lambda$ under the risk-neutral measure. Let $(U_i)_{i\\geq1}$ be a sequence of i.i.d. random variables with expectation $\\nu$. Assume that the $\\sigma$-fields generated by $W$, $N$ and $(U_i)_{i\\geq1}$ are mutually independent under the risk-neutral measure.\n",
        "Define\n",
        "$$\n",
        "\\pi(t)=\\sum_{i=1}^{N(t)}U_i\n",
        "$$\n",
        "and write the dynamics of $V$ as\n",
        "$$\n",
        "dV(t)=V(t-)((r-\\lambda\\nu)dt+\\sigma_VdW_{\\beta}(t)+\\Delta\\pi(t))\n",
        "$$\n",
        "Assume further that the $U_i+1$ are lognormally distributed, i.e.\n",
        "$$\n",
        "\\ln(U_i+1)\\sim\\mathcal{N}(\\mu,\\sigma)\n",
        "$$\n",
        "Write a Python function which calculates the credit spread (in terms of continuously compounded yields) for this entity, taking as inputs (in this order) $V(0)$, $K$, $T$, $r$, $\\sigma_V$, $\\lambda$, $\\mu$ and $\\sigma$.  <I>(8 marks)</I>"
      ]
    },
    {
      "cell_type": "code",
      "source": [
        "import numpy as np\n",
        "import pandas as pd\n",
        "import math\n",
        "import matplotlib.pyplot as plt\n",
        "\n",
        "#1, Standard normal cdf\n",
        "def Phi(x: float) -> float:\n",
        "    return 0.5*(1.0 + math.erf(x / math.sqrt(2.0)))\n",
        "\n",
        "#2, E[min(K,X)] for X~LogNormal(m_ln, s2_ln)\n",
        "def expected_min_under_lognormal(m_ln, s2_ln, K_f):\n",
        "    lnK = math.log(K_f)\n",
        "    s   = math.sqrt(max(s2_ln, 1e-16))\n",
        "    ins_1   = (lnK - m_ln) / s\n",
        "    ins_2   = (lnK - m_ln - s2_ln) / s\n",
        "    P     = 1 - Phi(ins_1)\n",
        "    E2  = math.exp(m_ln + 0.5*s2_ln) * Phi(ins_2)\n",
        "    #E[min(K, X)]= K*P(X>=K) + E[X 1_{X<K}]\n",
        "    return K_f*P + E2\n",
        "\n",
        "#3, Debt price under jump-diffusion\n",
        "def debt_price_jump_merton(V0, K, T, r, sigma_V, lam, mu, sig,\n",
        "                           tol=1e-12, nmin=50):\n",
        "    #Jump mean       nu = E[J-1]= exp(μ+1/2*σ^2)-1   with J = e^{Normal(mu, sig^2)}\n",
        "    nu = math.exp(mu + 0.5*sig**2) - 1.0\n",
        "    #Poisson mean (m = λT)\n",
        "    m = lam * T\n",
        "    #Truncation\n",
        "    nmax = max(nmin, int(math.ceil(m + 10.0*math.sqrt(m + 1e-12))))\n",
        "    #Accumulate\n",
        "    p_n = math.exp(-m)  #p_0\n",
        "    E_min = 0.0\n",
        "    for n in range(0, nmax + 1):\n",
        "        #Conditional lognormal parameters for ln V_T|N(T)=n\n",
        "        m_n  = math.log(V0) + (r - lam*nu - 0.5*sigma_V**2)*T + n*mu\n",
        "        s2_n = sigma_V**2 * T + n*(sig**2)\n",
        "        E_min += p_n * expected_min_under_lognormal(m_n, s2_n, K)\n",
        "        #Poisson recursion p_{n+1} = p_n * m/(n+1)\n",
        "        p_n *= m / (n + 1.0)\n",
        "        if p_n < tol and n > m + 5.0*math.sqrt(m + 1e-12):\n",
        "            break\n",
        "    #Discount back\n",
        "    return math.exp(-r*T) * E_min\n",
        "\n",
        "#4) Credit spread under jump-diffusion\n",
        "def credit_spread_jump(V0, K, T, r, sigma_V, lam, mu, sig):\n",
        "    D0 = debt_price_jump_merton(V0, K, T, r, sigma_V, lam, mu, sig)\n",
        "    #Continously compounded yield of defautable ZCB, (1/T)ln(K/D0)\n",
        "    y_debt = (1.0/T) * math.log(K / D0)               #get zcb from price D0\n",
        "    #Credit spread\n",
        "    spread = y_debt - r\n",
        "    return spread, D0\n"
      ],
      "metadata": {
        "id": "52EqzOytKknK"
      },
      "execution_count": null,
      "outputs": []
    },
    {
      "cell_type": "code",
      "source": [
        "#parameters pre-defined\n",
        "\n",
        "V0 = 97.892\n",
        "K = 120\n",
        "T = 10\n",
        "r = 0.035\n",
        "sigma_V = 0.182\n",
        "\n",
        "#new ones\n",
        "lam = 0.1\n",
        "mu = -0.1\n",
        "sig = 0.2\n",
        "\n",
        "print(\"Input Parameters (rounded):\")\n",
        "print(f\"V(0): {V0}\")\n",
        "print(f\"K: {K:.0f}\")\n",
        "print(f\"T: {T:g}\")\n",
        "print(f\"r: {r:.3f}\")\n",
        "print(f\"sigma_V: {sigma_V}\")\n",
        "print(f\"lambda: {lam:.2f}\")\n",
        "print(f\"mu (jump): {mu:.2f}\")\n",
        "print(f\"sigma (jump): {sig:.2f}\\n\")\n",
        "\n",
        "#Print result\n",
        "spread_cc, D0 = credit_spread_jump(V0, K, T, r, sigma_V, lam, mu, sig)\n",
        "\n",
        "print(f\"\\nDebt value D0 (EUR): {D0:.8f}\")\n",
        "print(f\"Credit spread : {spread_cc:.8f} (or {spread_cc * 10000:.2f} bps)\")\n"
      ],
      "metadata": {
        "colab": {
          "base_uri": "https://localhost:8080/"
        },
        "id": "60qYMn8HNKm0",
        "outputId": "bb35e7e7-0de3-490c-ae24-71a4fa313c8c"
      },
      "execution_count": null,
      "outputs": [
        {
          "output_type": "stream",
          "name": "stdout",
          "text": [
            "Input Parameters (rounded):\n",
            "V(0): 97.892\n",
            "K: 120\n",
            "T: 10\n",
            "r: 0.035\n",
            "sigma_V: 0.182\n",
            "lambda: 0.10\n",
            "mu (jump): -0.10\n",
            "sigma (jump): 0.20\n",
            "\n",
            "\n",
            "Debt value D0 (EUR): 68.66029236\n",
            "Credit spread : 0.02083207 (or 208.32 bps)\n"
          ]
        }
      ]
    },
    {
      "cell_type": "code",
      "source": [],
      "metadata": {
        "id": "oQWMfK_6MxX6"
      },
      "execution_count": null,
      "outputs": []
    }
  ],
  "metadata": {
    "kernelspec": {
      "display_name": "Python 3 (ipykernel)",
      "language": "python",
      "name": "python3"
    },
    "language_info": {
      "codemirror_mode": {
        "name": "ipython",
        "version": 3
      },
      "file_extension": ".py",
      "mimetype": "text/x-python",
      "name": "python",
      "nbconvert_exporter": "python",
      "pygments_lexer": "ipython3",
      "version": "3.10.12"
    },
    "colab": {
      "provenance": [],
      "include_colab_link": true
    }
  },
  "nbformat": 4,
  "nbformat_minor": 0
}